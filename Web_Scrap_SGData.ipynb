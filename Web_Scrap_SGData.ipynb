{
 "cells": [
  {
   "cell_type": "markdown",
   "metadata": {},
   "source": [
    "## Setup and Config"
   ]
  },
  {
   "cell_type": "code",
   "execution_count": 1,
   "metadata": {},
   "outputs": [],
   "source": [
    "import urllib.request\n",
    "from lxml import html\n",
    "import json\n",
    "import pandas as pd\n",
    "import requests\n",
    "import numpy as np"
   ]
  },
  {
   "cell_type": "code",
   "execution_count": 2,
   "metadata": {},
   "outputs": [],
   "source": [
    "###Get api address for dataset\n",
    "\n",
    "#ITE\n",
    "id0 = '0e005227-6e99-4a99-b608-d8f1c1606967'\n",
    "#Poly\n",
    "id1 = 'f358cf0d-61fa-4eeb-93a2-1eca971cf1a4'\n",
    "#ITE Grad\n",
    "id2 = '4e35400a-5a45-4483-9363-df01fa59584a'"
   ]
  },
  {
   "cell_type": "code",
   "execution_count": 119,
   "metadata": {},
   "outputs": [],
   "source": [
    "#defining header\n",
    "header= {'User-Agent': 'Mozilla/5.0 (X11; Linux x86_64) ' \n",
    "      'AppleWebKit/537.11 (KHTML, like Gecko) '\n",
    "      'Chrome/23.0.1271.64 Safari/537.11',\n",
    "      'Accept': 'text/html,application/xhtml+xml,application/xml;q=0.9,*/*;q=0.8',\n",
    "##      'Accept-Charset': 'ISO-8859-1,utf-8;q=0.7,*;q=0.3',\n",
    "##      'Accept-Encoding': 'none',\n",
    "##      'Accept-Language': 'en-US,en;q=0.8',\n",
    "      'Connection': 'keep-alive'}\n",
    "\n",
    "#the URL where you are requesting at\n",
    "url='https://data.gov.sg/api/action/datastore_search?resource_id='+id2+'&limit=1000'\n",
    "\n",
    "req = urllib.request.Request(url=url, headers=header) \n",
    "page = urllib.request.urlopen(req)\n",
    "text=page.read().decode()\n",
    "\n",
    "try:\n",
    "        js = json.loads(text)\n",
    "except:\n",
    "        js = None"
   ]
  },
  {
   "cell_type": "markdown",
   "metadata": {},
   "source": [
    "## Getting Data to Dataframe"
   ]
  },
  {
   "cell_type": "code",
   "execution_count": 120,
   "metadata": {},
   "outputs": [],
   "source": [
    "#get records from results into dataframe\n",
    "\n",
    "df=pd.DataFrame.from_dict(js['result']['records'], orient='columns')"
   ]
  },
  {
   "cell_type": "code",
   "execution_count": 121,
   "metadata": {},
   "outputs": [
    {
     "data": {
      "text/html": [
       "<div>\n",
       "<style scoped>\n",
       "    .dataframe tbody tr th:only-of-type {\n",
       "        vertical-align: middle;\n",
       "    }\n",
       "\n",
       "    .dataframe tbody tr th {\n",
       "        vertical-align: top;\n",
       "    }\n",
       "\n",
       "    .dataframe thead th {\n",
       "        text-align: right;\n",
       "    }\n",
       "</style>\n",
       "<table border=\"1\" class=\"dataframe\">\n",
       "  <thead>\n",
       "    <tr style=\"text-align: right;\">\n",
       "      <th></th>\n",
       "      <th>gender</th>\n",
       "      <th>_id</th>\n",
       "      <th>graduate_count</th>\n",
       "      <th>nmc_course_level</th>\n",
       "      <th>year</th>\n",
       "    </tr>\n",
       "  </thead>\n",
       "  <tbody>\n",
       "    <tr>\n",
       "      <th>0</th>\n",
       "      <td>Male</td>\n",
       "      <td>1</td>\n",
       "      <td>35</td>\n",
       "      <td>Engineering: Diploma</td>\n",
       "      <td>2011</td>\n",
       "    </tr>\n",
       "    <tr>\n",
       "      <th>1</th>\n",
       "      <td>Male</td>\n",
       "      <td>2</td>\n",
       "      <td>1413</td>\n",
       "      <td>Engineering: Higher NITEC</td>\n",
       "      <td>2011</td>\n",
       "    </tr>\n",
       "    <tr>\n",
       "      <th>2</th>\n",
       "      <td>Male</td>\n",
       "      <td>3</td>\n",
       "      <td>3148</td>\n",
       "      <td>Engineering: NITEC</td>\n",
       "      <td>2011</td>\n",
       "    </tr>\n",
       "    <tr>\n",
       "      <th>3</th>\n",
       "      <td>Male</td>\n",
       "      <td>4</td>\n",
       "      <td>320</td>\n",
       "      <td>Info-Communications Technology: Higher NITEC</td>\n",
       "      <td>2011</td>\n",
       "    </tr>\n",
       "    <tr>\n",
       "      <th>4</th>\n",
       "      <td>Male</td>\n",
       "      <td>5</td>\n",
       "      <td>714</td>\n",
       "      <td>Info-Communications Technology: NITEC</td>\n",
       "      <td>2011</td>\n",
       "    </tr>\n",
       "    <tr>\n",
       "      <th>...</th>\n",
       "      <td>...</td>\n",
       "      <td>...</td>\n",
       "      <td>...</td>\n",
       "      <td>...</td>\n",
       "      <td>...</td>\n",
       "    </tr>\n",
       "    <tr>\n",
       "      <th>123</th>\n",
       "      <td>Female</td>\n",
       "      <td>124</td>\n",
       "      <td>265</td>\n",
       "      <td>Info-Communications Technology: Higher NITEC</td>\n",
       "      <td>2018</td>\n",
       "    </tr>\n",
       "    <tr>\n",
       "      <th>124</th>\n",
       "      <td>Female</td>\n",
       "      <td>125</td>\n",
       "      <td>338</td>\n",
       "      <td>Info-Communications Technology: NITEC</td>\n",
       "      <td>2018</td>\n",
       "    </tr>\n",
       "    <tr>\n",
       "      <th>125</th>\n",
       "      <td>Female</td>\n",
       "      <td>126</td>\n",
       "      <td>7</td>\n",
       "      <td>Business &amp; Services: Diploma</td>\n",
       "      <td>2018</td>\n",
       "    </tr>\n",
       "    <tr>\n",
       "      <th>126</th>\n",
       "      <td>Female</td>\n",
       "      <td>127</td>\n",
       "      <td>1291</td>\n",
       "      <td>Business &amp; Services: Higher NITEC</td>\n",
       "      <td>2018</td>\n",
       "    </tr>\n",
       "    <tr>\n",
       "      <th>127</th>\n",
       "      <td>Female</td>\n",
       "      <td>128</td>\n",
       "      <td>1938</td>\n",
       "      <td>Business &amp; Services: NITEC</td>\n",
       "      <td>2018</td>\n",
       "    </tr>\n",
       "  </tbody>\n",
       "</table>\n",
       "<p>128 rows × 5 columns</p>\n",
       "</div>"
      ],
      "text/plain": [
       "     gender  _id graduate_count                              nmc_course_level  \\\n",
       "0      Male    1             35                          Engineering: Diploma   \n",
       "1      Male    2           1413                     Engineering: Higher NITEC   \n",
       "2      Male    3           3148                            Engineering: NITEC   \n",
       "3      Male    4            320  Info-Communications Technology: Higher NITEC   \n",
       "4      Male    5            714         Info-Communications Technology: NITEC   \n",
       "..      ...  ...            ...                                           ...   \n",
       "123  Female  124            265  Info-Communications Technology: Higher NITEC   \n",
       "124  Female  125            338         Info-Communications Technology: NITEC   \n",
       "125  Female  126              7                  Business & Services: Diploma   \n",
       "126  Female  127           1291             Business & Services: Higher NITEC   \n",
       "127  Female  128           1938                    Business & Services: NITEC   \n",
       "\n",
       "     year  \n",
       "0    2011  \n",
       "1    2011  \n",
       "2    2011  \n",
       "3    2011  \n",
       "4    2011  \n",
       "..    ...  \n",
       "123  2018  \n",
       "124  2018  \n",
       "125  2018  \n",
       "126  2018  \n",
       "127  2018  \n",
       "\n",
       "[128 rows x 5 columns]"
      ]
     },
     "execution_count": 121,
     "metadata": {},
     "output_type": "execute_result"
    }
   ],
   "source": [
    "df"
   ]
  },
  {
   "cell_type": "code",
   "execution_count": 122,
   "metadata": {},
   "outputs": [],
   "source": [
    "#ETL\n",
    "df.drop(['_id'],axis=1,inplace=True)\n",
    "df.drop_duplicates(keep='first',inplace=True)\n",
    "df.reset_index(drop = True)\n",
    "try:\n",
    "    df.rename(columns={\"nmc_course_level\": \"course\", \"gender\": \"sex\", \"graduate_count\": \"graduates\"},inplace=True)\n",
    "except:\n",
    "    print('ok')\n",
    "    \n",
    "df = df.reindex(columns=['year','sex','course','graduates'])\n",
    "df[['year','graduates']]=df[['year','graduates']].apply(pd.to_numeric, errors='coerce')"
   ]
  },
  {
   "cell_type": "code",
   "execution_count": 123,
   "metadata": {},
   "outputs": [],
   "source": [
    "df_eng = df[df['course'].str.contains('Engineering')]"
   ]
  },
  {
   "cell_type": "code",
   "execution_count": 124,
   "metadata": {},
   "outputs": [
    {
     "name": "stderr",
     "output_type": "stream",
     "text": [
      "<ipython-input-124-07ed0595ff0d>:16: SettingWithCopyWarning: \n",
      "A value is trying to be set on a copy of a slice from a DataFrame.\n",
      "Try using .loc[row_indexer,col_indexer] = value instead\n",
      "\n",
      "See the caveats in the documentation: https://pandas.pydata.org/pandas-docs/stable/user_guide/indexing.html#returning-a-view-versus-a-copy\n",
      "  df_eng['sex'] = df_eng['sex'].apply(cl_gender)\n"
     ]
    }
   ],
   "source": [
    "###convert MF and F to Male and Female \n",
    "\n",
    "def cl_gender(x):\n",
    "    if x =='Female'or x=='Male':\n",
    "        return x\n",
    "    elif x=='MF':\n",
    "        return 'Male'\n",
    "    elif x =='F':\n",
    "        return 'Female'\n",
    "    else:\n",
    "        return 'NA'\n",
    "        \n",
    "    \n",
    "\n",
    "\n",
    "df_eng['sex'] = df_eng['sex'].apply(cl_gender)"
   ]
  },
  {
   "cell_type": "markdown",
   "metadata": {},
   "source": [
    "## Visualization"
   ]
  },
  {
   "cell_type": "code",
   "execution_count": null,
   "metadata": {},
   "outputs": [],
   "source": []
  },
  {
   "cell_type": "code",
   "execution_count": null,
   "metadata": {},
   "outputs": [],
   "source": []
  },
  {
   "cell_type": "code",
   "execution_count": 125,
   "metadata": {},
   "outputs": [],
   "source": [
    "# Import seaborn and matplotlib with matplotlib inline\n",
    "import seaborn as sns\n",
    "import matplotlib.pyplot as plt\n",
    "%matplotlib inline"
   ]
  },
  {
   "cell_type": "code",
   "execution_count": 126,
   "metadata": {},
   "outputs": [
    {
     "name": "stderr",
     "output_type": "stream",
     "text": [
      "<ipython-input-126-9ea97032a82e>:1: SettingWithCopyWarning: \n",
      "A value is trying to be set on a copy of a slice from a DataFrame\n",
      "\n",
      "See the caveats in the documentation: https://pandas.pydata.org/pandas-docs/stable/user_guide/indexing.html#returning-a-view-versus-a-copy\n",
      "  df_eng.sort_values(by=['year'],inplace=True)\n"
     ]
    }
   ],
   "source": [
    "df_eng.sort_values(by=['year'],inplace=True)"
   ]
  },
  {
   "cell_type": "code",
   "execution_count": null,
   "metadata": {},
   "outputs": [],
   "source": []
  },
  {
   "cell_type": "code",
   "execution_count": null,
   "metadata": {},
   "outputs": [],
   "source": []
  },
  {
   "cell_type": "code",
   "execution_count": 127,
   "metadata": {},
   "outputs": [],
   "source": [
    "course_list = df_eng['course'].unique()"
   ]
  },
  {
   "cell_type": "code",
   "execution_count": 128,
   "metadata": {},
   "outputs": [
    {
     "data": {
      "image/png": "[encoded data removed]",
      "text/plain": [
       "<Figure size 1152x648 with 1 Axes>"
      ]
     },
     "metadata": {
      "needs_background": "light"
     },
     "output_type": "display_data"
    }
   ],
   "source": [
    "courseno = 0\n",
    "\n",
    "# set width of bar\n",
    "barWidth = 0.25\n",
    "# Figure Size\n",
    "fig, ax = plt.subplots(figsize =(16, 9))\n",
    "\n",
    "# set height of bar\n",
    "F = df_eng[(df_eng['sex']=='Female') & (df_eng['course']==course_list[courseno])]['graduates']\n",
    "MF = df_eng[(df_eng['sex']=='Male') & (df_eng['course']==course_list[courseno])]['graduates']\n",
    "\n",
    "\n",
    "# Set position of bar on X axis\n",
    "br1 = np.arange(len(F))\n",
    "br2 = [x + barWidth for x in br1]\n",
    "\n",
    "# Set X year label\n",
    "Y = df_eng[(df_eng['sex']=='Female') & (df_eng['course']==course_list[courseno])]['year']\n",
    "\n",
    "# Make the plot\n",
    "plt.bar(br1, F, color ='r', width = barWidth,\n",
    "        label ='Female')\n",
    "plt.bar(br2, MF, color ='b', width = barWidth,\n",
    "        label ='Male')\n",
    "\n",
    "\n",
    "# Add annotation to bars\n",
    "\n",
    "for x,y in zip(br1,F):\n",
    "\n",
    "    label = \"{:d}\".format(y)\n",
    "\n",
    "    plt.annotate(label, # this is the text\n",
    "                 (x,y), # this is the point to label\n",
    "                 textcoords=\"offset points\", # how to position the text\n",
    "                 xytext=(0,10), # distance from text to points (x,y)\n",
    "                 ha='center') # horizontal alignment can be left, right or center\n",
    "\n",
    "for x,y in zip(br2,MF):\n",
    "\n",
    "    label = \"{:d}\".format(y)\n",
    "\n",
    "    plt.annotate(label, # this is the text\n",
    "                 (x,y), # this is the point to label\n",
    "                 textcoords=\"offset points\", # how to position the text\n",
    "                 xytext=(0,10), # distance from text to points (x,y)\n",
    "                 ha='center') # horizontal alignment can be left, right or center\n",
    "\n",
    "# Adding Xticks\n",
    "plt.xlabel(\"Year\",fontweight ='bold')\n",
    "plt.ylabel(\"No. of graduates\",fontweight ='bold' )\n",
    "plt.title(course_list[courseno]+\" Course Graduates\")\n",
    "plt.xticks([r + barWidth for r in range(len(F))],Y)\n",
    " \n",
    "plt.legend()\n",
    "plt.show()\n",
    "\n",
    "\n",
    "\n",
    "\n"
   ]
  },
  {
   "cell_type": "code",
   "execution_count": 84,
   "metadata": {},
   "outputs": [
    {
     "data": {
      "text/plain": [
       "[]"
      ]
     },
     "execution_count": 84,
     "metadata": {},
     "output_type": "execute_result"
    }
   ],
   "source": []
  },
  {
   "cell_type": "code",
   "execution_count": null,
   "metadata": {},
   "outputs": [],
   "source": []
  },
  {
   "cell_type": "code",
   "execution_count": 8,
   "metadata": {},
   "outputs": [
    {
     "data": {
      "text/html": [
       "<div>\n",
       "<style scoped>\n",
       "    .dataframe tbody tr th:only-of-type {\n",
       "        vertical-align: middle;\n",
       "    }\n",
       "\n",
       "    .dataframe tbody tr th {\n",
       "        vertical-align: top;\n",
       "    }\n",
       "\n",
       "    .dataframe thead th {\n",
       "        text-align: right;\n",
       "    }\n",
       "</style>\n",
       "<table border=\"1\" class=\"dataframe\">\n",
       "  <thead>\n",
       "    <tr style=\"text-align: right;\">\n",
       "      <th></th>\n",
       "      <th>year</th>\n",
       "      <th>sex</th>\n",
       "      <th>course</th>\n",
       "      <th>intake</th>\n",
       "      <th>enrolment</th>\n",
       "      <th>graduates</th>\n",
       "    </tr>\n",
       "  </thead>\n",
       "  <tbody>\n",
       "    <tr>\n",
       "      <th>0</th>\n",
       "      <td>2017</td>\n",
       "      <td>MF</td>\n",
       "      <td>Design &amp; Media</td>\n",
       "      <td>967</td>\n",
       "      <td>1862</td>\n",
       "      <td>889</td>\n",
       "    </tr>\n",
       "    <tr>\n",
       "      <th>1</th>\n",
       "      <td>2017</td>\n",
       "      <td>F</td>\n",
       "      <td>Design &amp; Media</td>\n",
       "      <td>486</td>\n",
       "      <td>921</td>\n",
       "      <td>440</td>\n",
       "    </tr>\n",
       "    <tr>\n",
       "      <th>2</th>\n",
       "      <td>2017</td>\n",
       "      <td>MF</td>\n",
       "      <td>Engineering</td>\n",
       "      <td>4685</td>\n",
       "      <td>8643</td>\n",
       "      <td>3805</td>\n",
       "    </tr>\n",
       "    <tr>\n",
       "      <th>3</th>\n",
       "      <td>2017</td>\n",
       "      <td>F</td>\n",
       "      <td>Engineering</td>\n",
       "      <td>676</td>\n",
       "      <td>1228</td>\n",
       "      <td>530</td>\n",
       "    </tr>\n",
       "    <tr>\n",
       "      <th>4</th>\n",
       "      <td>2017</td>\n",
       "      <td>MF</td>\n",
       "      <td>Electronics &amp; Infocomm Technology</td>\n",
       "      <td>3570</td>\n",
       "      <td>6531</td>\n",
       "      <td>3100</td>\n",
       "    </tr>\n",
       "    <tr>\n",
       "      <th>...</th>\n",
       "      <td>...</td>\n",
       "      <td>...</td>\n",
       "      <td>...</td>\n",
       "      <td>...</td>\n",
       "      <td>...</td>\n",
       "      <td>...</td>\n",
       "    </tr>\n",
       "    <tr>\n",
       "      <th>127</th>\n",
       "      <td>2016</td>\n",
       "      <td>F</td>\n",
       "      <td>Hospitality</td>\n",
       "      <td>319</td>\n",
       "      <td>602</td>\n",
       "      <td>291</td>\n",
       "    </tr>\n",
       "    <tr>\n",
       "      <th>128</th>\n",
       "      <td>2017</td>\n",
       "      <td>MF</td>\n",
       "      <td>Applied and Health Sciences</td>\n",
       "      <td>1342</td>\n",
       "      <td>2537</td>\n",
       "      <td>1059</td>\n",
       "    </tr>\n",
       "    <tr>\n",
       "      <th>129</th>\n",
       "      <td>2017</td>\n",
       "      <td>F</td>\n",
       "      <td>Applied and Health Sciences</td>\n",
       "      <td>850</td>\n",
       "      <td>1558</td>\n",
       "      <td>643</td>\n",
       "    </tr>\n",
       "    <tr>\n",
       "      <th>130</th>\n",
       "      <td>2017</td>\n",
       "      <td>MF</td>\n",
       "      <td>Business &amp; Services</td>\n",
       "      <td>4344</td>\n",
       "      <td>7797</td>\n",
       "      <td>3496</td>\n",
       "    </tr>\n",
       "    <tr>\n",
       "      <th>131</th>\n",
       "      <td>2017</td>\n",
       "      <td>F</td>\n",
       "      <td>Business &amp; Services</td>\n",
       "      <td>2680</td>\n",
       "      <td>4836</td>\n",
       "      <td>2172</td>\n",
       "    </tr>\n",
       "  </tbody>\n",
       "</table>\n",
       "<p>132 rows × 6 columns</p>\n",
       "</div>"
      ],
      "text/plain": [
       "     year sex                             course  intake  enrolment  graduates\n",
       "0    2017  MF                     Design & Media     967       1862        889\n",
       "1    2017   F                     Design & Media     486        921        440\n",
       "2    2017  MF                        Engineering    4685       8643       3805\n",
       "3    2017   F                        Engineering     676       1228        530\n",
       "4    2017  MF  Electronics & Infocomm Technology    3570       6531       3100\n",
       "..    ...  ..                                ...     ...        ...        ...\n",
       "127  2016   F                        Hospitality     319        602        291\n",
       "128  2017  MF        Applied and Health Sciences    1342       2537       1059\n",
       "129  2017   F        Applied and Health Sciences     850       1558        643\n",
       "130  2017  MF                Business & Services    4344       7797       3496\n",
       "131  2017   F                Business & Services    2680       4836       2172\n",
       "\n",
       "[132 rows x 6 columns]"
      ]
     },
     "execution_count": 8,
     "metadata": {},
     "output_type": "execute_result"
    }
   ],
   "source": [
    "df"
   ]
  }
 ],
 "metadata": {
  "kernelspec": {
   "display_name": "Python 3",
   "language": "python",
   "name": "python3"
  },
  "language_info": {
   "codemirror_mode": {
    "name": "ipython",
    "version": 3
   },
   "file_extension": ".py",
   "mimetype": "text/x-python",
   "name": "python",
   "nbconvert_exporter": "python",
   "pygments_lexer": "ipython3",
   "version": "3.8.5"
  }
 },
 "nbformat": 4,
 "nbformat_minor": 4
}
